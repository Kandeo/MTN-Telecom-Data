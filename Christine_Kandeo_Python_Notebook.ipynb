{
  "nbformat": 4,
  "nbformat_minor": 0,
  "metadata": {
    "colab": {
      "name": "Christine Kandeo Python Notebook",
      "provenance": [],
      "collapsed_sections": [],
      "authorship_tag": "ABX9TyMyq2JnRm9zzNlypUL53FO8",
      "include_colab_link": true
    },
    "kernelspec": {
      "name": "python3",
      "display_name": "Python 3"
    },
    "language_info": {
      "name": "python"
    }
  },
  "cells": [
    {
      "cell_type": "markdown",
      "metadata": {
        "id": "view-in-github",
        "colab_type": "text"
      },
      "source": [
        "<a href=\"https://colab.research.google.com/github/Kandeo/Week-3-IP/blob/main/Christine_Kandeo_Python_Notebook.ipynb\" target=\"_parent\"><img src=\"https://colab.research.google.com/assets/colab-badge.svg\" alt=\"Open In Colab\"/></a>"
      ]
    },
    {
      "cell_type": "markdown",
      "metadata": {
        "id": "ZzIPNOYUzka3"
      },
      "source": [
        "#     OVERVIEW\n",
        "MTN Cote d'Ivoire would like to upgrade its technology infrastructure for its mobile users in Ivory Coast. \n",
        "Studying the given dataset, how does MTN Cote d'Ivoire go about the upgrade of its infrastructure strategy within the given cities?\n",
        "\n",
        "The telecom data provided for this project is only a sample ( i.e. for only three days).  The data files for the project are as follow:\n",
        "\n",
        "1. cells_geo_description.xlsx [Link] (Links to an external site.)\n",
        "2. cells_geo.csv [Link] (Links to an external site.)\n",
        "3. CDR_description.xlsx [Link] (Links to an external site.)\n",
        "4. CDR 20120507 [http://bit.ly/TelecomDataset1] (Links to an external site.)\n",
        "5. CDR 20120508 [http://bit.ly/TelecomDataset2] (Links to an external site.)\n",
        "6. CDR 20120509 [http://bit.ly/TelecomDataset3]\n",
        "\n",
        "Using Python for your analysis:"
      ]
    },
    {
      "cell_type": "code",
      "metadata": {
        "id": "7Uo2e-WYd_3j"
      },
      "source": [
        "# Let's import the pandas library to be used:\n",
        "\n",
        "import pandas as pd\n"
      ],
      "execution_count": 114,
      "outputs": []
    },
    {
      "cell_type": "markdown",
      "metadata": {
        "id": "_jCaRUd6D7q9"
      },
      "source": [
        "# Cells_Geo"
      ]
    },
    {
      "cell_type": "markdown",
      "metadata": {
        "id": "TAfaJUNvwEo-"
      },
      "source": [
        "Loading Our Dataset"
      ]
    },
    {
      "cell_type": "code",
      "metadata": {
        "colab": {
          "base_uri": "https://localhost:8080/",
          "height": 203
        },
        "id": "Fe-rPyRhn41v",
        "outputId": "99e129fc-3b8b-44f4-c9c1-79c8eae9f79a"
      },
      "source": [
        "#To Load our Dataset:\n",
        "\n",
        "#We start by downloading the csv file from the Provided link,\n",
        "#Since the Document was on csv, i imported the Data From the Text file on Excel\n",
        "#This generated the url='/content/Cells_geo.xlsx'\n",
        "\n",
        "#Loading our Dataset and based on the cells_geo_description table:\n",
        "url = '/content/Cells_geo.xlsx'\n",
        "df = pd.read_excel(url, sheet_name='Sheet1', header=0, names= ['City', 'Status', 'Localisation', 'GeographicalZone', 'ZoneName', 'Longitude', 'Latitude', 'Region', 'Area', 'Cell_ID', 'Site_Code'])\n",
        "df.head()"
      ],
      "execution_count": 115,
      "outputs": [
        {
          "output_type": "execute_result",
          "data": {
            "text/html": [
              "<div>\n",
              "<style scoped>\n",
              "    .dataframe tbody tr th:only-of-type {\n",
              "        vertical-align: middle;\n",
              "    }\n",
              "\n",
              "    .dataframe tbody tr th {\n",
              "        vertical-align: top;\n",
              "    }\n",
              "\n",
              "    .dataframe thead th {\n",
              "        text-align: right;\n",
              "    }\n",
              "</style>\n",
              "<table border=\"1\" class=\"dataframe\">\n",
              "  <thead>\n",
              "    <tr style=\"text-align: right;\">\n",
              "      <th></th>\n",
              "      <th>City</th>\n",
              "      <th>Status</th>\n",
              "      <th>Localisation</th>\n",
              "      <th>GeographicalZone</th>\n",
              "      <th>ZoneName</th>\n",
              "      <th>Longitude</th>\n",
              "      <th>Latitude</th>\n",
              "      <th>Region</th>\n",
              "      <th>Area</th>\n",
              "      <th>Cell_ID</th>\n",
              "      <th>Site_Code</th>\n",
              "    </tr>\n",
              "  </thead>\n",
              "  <tbody>\n",
              "    <tr>\n",
              "      <th>0</th>\n",
              "      <td>ADJAME</td>\n",
              "      <td>In Service</td>\n",
              "      <td>ABIDJAN</td>\n",
              "      <td>\"Abidjan_EST</td>\n",
              "      <td>AGBANNEW</td>\n",
              "      <td>-4.000667</td>\n",
              "      <td>5.368194</td>\n",
              "      <td>LAGUNE</td>\n",
              "      <td>NaN</td>\n",
              "      <td>fbb2e75af3</td>\n",
              "      <td>0bb492ef17</td>\n",
              "    </tr>\n",
              "    <tr>\n",
              "      <th>1</th>\n",
              "      <td>ADJAME</td>\n",
              "      <td>In Service</td>\n",
              "      <td>ABIDJAN</td>\n",
              "      <td>\"Abidjan_EST</td>\n",
              "      <td>AGBANNEW</td>\n",
              "      <td>-4.000667</td>\n",
              "      <td>5.368194</td>\n",
              "      <td>LAGUNE</td>\n",
              "      <td>NaN</td>\n",
              "      <td>1502501d78</td>\n",
              "      <td>0bb492ef17</td>\n",
              "    </tr>\n",
              "    <tr>\n",
              "      <th>2</th>\n",
              "      <td>ADJAME</td>\n",
              "      <td>In Service</td>\n",
              "      <td>ABIDJAN</td>\n",
              "      <td>\"Abidjan_EST</td>\n",
              "      <td>AGBANNEW</td>\n",
              "      <td>-4.000667</td>\n",
              "      <td>5.368194</td>\n",
              "      <td>LAGUNE</td>\n",
              "      <td>NaN</td>\n",
              "      <td>0c2e182a0c</td>\n",
              "      <td>0bb492ef17</td>\n",
              "    </tr>\n",
              "    <tr>\n",
              "      <th>3</th>\n",
              "      <td>ASSINIE</td>\n",
              "      <td>In Service</td>\n",
              "      <td>INTERIEUR</td>\n",
              "      <td>Grand-EST</td>\n",
              "      <td>ASSINIE\"</td>\n",
              "      <td>-3.488467</td>\n",
              "      <td>5.158761</td>\n",
              "      <td>SUD COMOE</td>\n",
              "      <td>NaN</td>\n",
              "      <td>69bdfc69fd</td>\n",
              "      <td>8a1e6ce31f</td>\n",
              "    </tr>\n",
              "    <tr>\n",
              "      <th>4</th>\n",
              "      <td>ASSINIE</td>\n",
              "      <td>In Service</td>\n",
              "      <td>INTERIEUR</td>\n",
              "      <td>Grand-EST</td>\n",
              "      <td>ASSINIE\"</td>\n",
              "      <td>-3.488467</td>\n",
              "      <td>5.158761</td>\n",
              "      <td>SUD COMOE</td>\n",
              "      <td>NaN</td>\n",
              "      <td>7a1029d2ab</td>\n",
              "      <td>8a1e6ce31f</td>\n",
              "    </tr>\n",
              "  </tbody>\n",
              "</table>\n",
              "</div>"
            ],
            "text/plain": [
              "      City      Status Localisation  ... Area     Cell_ID   Site_Code\n",
              "0   ADJAME  In Service      ABIDJAN  ...  NaN  fbb2e75af3  0bb492ef17\n",
              "1   ADJAME  In Service      ABIDJAN  ...  NaN  1502501d78  0bb492ef17\n",
              "2   ADJAME  In Service      ABIDJAN  ...  NaN  0c2e182a0c  0bb492ef17\n",
              "3  ASSINIE  In Service    INTERIEUR  ...  NaN  69bdfc69fd  8a1e6ce31f\n",
              "4  ASSINIE  In Service    INTERIEUR  ...  NaN  7a1029d2ab  8a1e6ce31f\n",
              "\n",
              "[5 rows x 11 columns]"
            ]
          },
          "metadata": {},
          "execution_count": 115
        }
      ]
    },
    {
      "cell_type": "markdown",
      "metadata": {
        "id": "IaLhTyWCwamt"
      },
      "source": [
        "Exploration"
      ]
    },
    {
      "cell_type": "code",
      "metadata": {
        "colab": {
          "base_uri": "https://localhost:8080/"
        },
        "id": "qrq2Lqi4wc5h",
        "outputId": "114e54c2-36bc-42df-a956-d37adda7c60d"
      },
      "source": [
        "#To filter out cells and retain those whose Status is In Service:\n",
        "df.loc[df[\"Status\"] == 'In Service']    #Returns 3907 Rows\n",
        "\n",
        "#To Filter based on the Location being Abidjan:\n",
        "df.loc[df[\"Localisation\"] == 'ABIDJAN']   #Returns 1669 Rows\n",
        "\n",
        "#Grouping the Rows In Pandas:\n",
        "#To group the Localisation first:\n",
        "f = df.groupby('Localisation')\n",
        "f\n",
        "#To access each of this groups:\n",
        "for Localisation, Localisation_df in f:\n",
        "  print(Localisation)\n",
        "  print(Localisation_df)"
      ],
      "execution_count": 116,
      "outputs": [
        {
          "output_type": "stream",
          "name": "stdout",
          "text": [
            "ABIDJAN\n",
            "         City      Status Localisation  ...           Area     Cell_ID   Site_Code\n",
            "0      ADJAME  In Service      ABIDJAN  ...            NaN  fbb2e75af3  0bb492ef17\n",
            "1      ADJAME  In Service      ABIDJAN  ...            NaN  1502501d78  0bb492ef17\n",
            "2      ADJAME  In Service      ABIDJAN  ...            NaN  0c2e182a0c  0bb492ef17\n",
            "7       ABOBO  In Service      ABIDJAN  ...            NaN  a70c1d263b  56306cc7ca\n",
            "8       ABOBO  In Service      ABIDJAN  ...            NaN  e2d04ea883  56306cc7ca\n",
            "...       ...         ...          ...  ...            ...         ...         ...\n",
            "3957  MARCORY  In Service      ABIDJAN  ...  ABIDJAN SOUTH  32dbfb021a  1ff98189c8\n",
            "3958  MARCORY  In Service      ABIDJAN  ...  ABIDJAN SOUTH  71d9ff904d  1ff98189c8\n",
            "3959  MARCORY  In Service      ABIDJAN  ...  ABIDJAN SOUTH  bbdd523132  1ff98189c8\n",
            "3966  MARCORY  In Service      ABIDJAN  ...  ABIDJAN SOUTH  eb76e06e8e  6daf54117b\n",
            "3967  MARCORY  In Service      ABIDJAN  ...  ABIDJAN SOUTH  e3d9d0ca54  6daf54117b\n",
            "\n",
            "[1669 rows x 11 columns]\n",
            "INTERIEUR\n",
            "          City      Status Localisation  ...          Area     Cell_ID   Site_Code\n",
            "3      ASSINIE  In Service    INTERIEUR  ...           NaN  69bdfc69fd  8a1e6ce31f\n",
            "4      ASSINIE  In Service    INTERIEUR  ...           NaN  7a1029d2ab  8a1e6ce31f\n",
            "5      ASSINIE  In Service    INTERIEUR  ...           NaN  0b4f56438f  8a1e6ce31f\n",
            "6     KRIKOREA  In Service    INTERIEUR  ...           NaN  041d2504f5  260dbfedc5\n",
            "38       DALOA  In Service    INTERIEUR  ...    NORTH WEST  d133371158  06c4cb622d\n",
            "...        ...         ...          ...  ...           ...         ...         ...\n",
            "3969  ZUENOULA  In Service    INTERIEUR  ...  CENTRE NORTH  1cfc2d7ab1  f91ed8d2e9\n",
            "3970  ZUENOULA  In Service    INTERIEUR  ...  CENTRE NORTH  3ae1708153  f91ed8d2e9\n",
            "3971  ZUENOULA  In Service    INTERIEUR  ...  CENTRE NORTH  cb71f8a29c  61bee9c70c\n",
            "3972  ZUENOULA  In Service    INTERIEUR  ...  CENTRE NORTH  d4a6a0b645  61bee9c70c\n",
            "3973  ZUENOULA  In Service    INTERIEUR  ...  CENTRE NORTH  f9f3e42589  61bee9c70c\n",
            "\n",
            "[2305 rows x 11 columns]\n"
          ]
        }
      ]
    },
    {
      "cell_type": "code",
      "metadata": {
        "colab": {
          "base_uri": "https://localhost:8080/",
          "height": 203
        },
        "id": "snncEyyATJjV",
        "outputId": "2797fd82-a34b-47a1-dfa6-49fb572ffcc0"
      },
      "source": [
        "#To groupby city\n",
        "g1 = df.groupby([\"City\"]).size().reset_index(name='Frequency')\n",
        "\n",
        "#Finding the city with the largest number of frequency:\n",
        "g1.nlargest(5, \"Frequency\")\n",
        "\n",
        "#This are the most used cities:"
      ],
      "execution_count": 140,
      "outputs": [
        {
          "output_type": "execute_result",
          "data": {
            "text/html": [
              "<div>\n",
              "<style scoped>\n",
              "    .dataframe tbody tr th:only-of-type {\n",
              "        vertical-align: middle;\n",
              "    }\n",
              "\n",
              "    .dataframe tbody tr th {\n",
              "        vertical-align: top;\n",
              "    }\n",
              "\n",
              "    .dataframe thead th {\n",
              "        text-align: right;\n",
              "    }\n",
              "</style>\n",
              "<table border=\"1\" class=\"dataframe\">\n",
              "  <thead>\n",
              "    <tr style=\"text-align: right;\">\n",
              "      <th></th>\n",
              "      <th>City</th>\n",
              "      <th>Frequency</th>\n",
              "    </tr>\n",
              "  </thead>\n",
              "  <tbody>\n",
              "    <tr>\n",
              "      <th>122</th>\n",
              "      <td>COCODY</td>\n",
              "      <td>354</td>\n",
              "    </tr>\n",
              "    <tr>\n",
              "      <th>488</th>\n",
              "      <td>YOPOUGON</td>\n",
              "      <td>295</td>\n",
              "    </tr>\n",
              "    <tr>\n",
              "      <th>1</th>\n",
              "      <td>ABOBO</td>\n",
              "      <td>255</td>\n",
              "    </tr>\n",
              "    <tr>\n",
              "      <th>317</th>\n",
              "      <td>MARCORY</td>\n",
              "      <td>141</td>\n",
              "    </tr>\n",
              "    <tr>\n",
              "      <th>475</th>\n",
              "      <td>TREICHVILLE</td>\n",
              "      <td>132</td>\n",
              "    </tr>\n",
              "  </tbody>\n",
              "</table>\n",
              "</div>"
            ],
            "text/plain": [
              "            City  Frequency\n",
              "122       COCODY        354\n",
              "488     YOPOUGON        295\n",
              "1          ABOBO        255\n",
              "317      MARCORY        141\n",
              "475  TREICHVILLE        132"
            ]
          },
          "metadata": {},
          "execution_count": 140
        }
      ]
    },
    {
      "cell_type": "code",
      "metadata": {
        "colab": {
          "base_uri": "https://localhost:8080/"
        },
        "id": "Byf5Gv7EnPv1",
        "outputId": "2ab71760-479d-469e-c485-91d09b94af1b"
      },
      "source": [
        "#To view the number of cities:\n",
        "set(df['City'])\n",
        "len(set(df['City']))\n",
        "\n",
        "#To view the number of Localisation:\n",
        "set(df['Localisation'])\n",
        "len(set(df['Localisation']))"
      ],
      "execution_count": 101,
      "outputs": [
        {
          "output_type": "execute_result",
          "data": {
            "text/plain": [
              "2"
            ]
          },
          "metadata": {},
          "execution_count": 101
        }
      ]
    },
    {
      "cell_type": "markdown",
      "metadata": {
        "id": "vmHNW2gmYgCv"
      },
      "source": [
        "Cleaning"
      ]
    },
    {
      "cell_type": "code",
      "metadata": {
        "colab": {
          "base_uri": "https://localhost:8080/",
          "height": 287
        },
        "id": "Th6bRUsoYu_N",
        "outputId": "6da34998-e9dd-402f-f0f1-0cf0f93b6e37"
      },
      "source": [
        "#To check which observations are duplicates:\n",
        "df.duplicated()\n",
        "\n",
        "#To find missing data and delete them:\n",
        "df.isnull()\n",
        "\n",
        "#Dropping the missing values\n",
        "df_no_missing = df.dropna()\n",
        "df_no_missing.head()\n"
      ],
      "execution_count": 50,
      "outputs": [
        {
          "output_type": "execute_result",
          "data": {
            "text/html": [
              "<div>\n",
              "<style scoped>\n",
              "    .dataframe tbody tr th:only-of-type {\n",
              "        vertical-align: middle;\n",
              "    }\n",
              "\n",
              "    .dataframe tbody tr th {\n",
              "        vertical-align: top;\n",
              "    }\n",
              "\n",
              "    .dataframe thead th {\n",
              "        text-align: right;\n",
              "    }\n",
              "</style>\n",
              "<table border=\"1\" class=\"dataframe\">\n",
              "  <thead>\n",
              "    <tr style=\"text-align: right;\">\n",
              "      <th></th>\n",
              "      <th>City</th>\n",
              "      <th>Status</th>\n",
              "      <th>Localisation</th>\n",
              "      <th>GeographicalZone</th>\n",
              "      <th>ZoneName</th>\n",
              "      <th>Longitude</th>\n",
              "      <th>Latitude</th>\n",
              "      <th>Region</th>\n",
              "      <th>Area</th>\n",
              "      <th>Cell_ID</th>\n",
              "      <th>Site_Code</th>\n",
              "    </tr>\n",
              "  </thead>\n",
              "  <tbody>\n",
              "    <tr>\n",
              "      <th>23</th>\n",
              "      <td>ABOBO</td>\n",
              "      <td>In Service</td>\n",
              "      <td>ABIDJAN</td>\n",
              "      <td>Abidjan_NORD</td>\n",
              "      <td>ZONE E - Abidjan_NORD</td>\n",
              "      <td>-4.014139</td>\n",
              "      <td>5.4335</td>\n",
              "      <td>LAGUNE</td>\n",
              "      <td>ABIDJAN NORTH</td>\n",
              "      <td>f740406877</td>\n",
              "      <td>0f34c36ac5</td>\n",
              "    </tr>\n",
              "    <tr>\n",
              "      <th>24</th>\n",
              "      <td>ABOBO</td>\n",
              "      <td>In Service</td>\n",
              "      <td>ABIDJAN</td>\n",
              "      <td>Abidjan_NORD</td>\n",
              "      <td>ZONE E - Abidjan_NORD</td>\n",
              "      <td>-4.014139</td>\n",
              "      <td>5.4335</td>\n",
              "      <td>LAGUNE</td>\n",
              "      <td>ABIDJAN NORTH</td>\n",
              "      <td>959e54c8f7</td>\n",
              "      <td>0f34c36ac5</td>\n",
              "    </tr>\n",
              "    <tr>\n",
              "      <th>25</th>\n",
              "      <td>ABOBO</td>\n",
              "      <td>In Service</td>\n",
              "      <td>ABIDJAN</td>\n",
              "      <td>Abidjan_NORD</td>\n",
              "      <td>ZONE E - Abidjan_NORD</td>\n",
              "      <td>-4.014139</td>\n",
              "      <td>5.4335</td>\n",
              "      <td>LAGUNE</td>\n",
              "      <td>ABIDJAN NORTH</td>\n",
              "      <td>56b7e7000c</td>\n",
              "      <td>0f34c36ac5</td>\n",
              "    </tr>\n",
              "    <tr>\n",
              "      <th>26</th>\n",
              "      <td>ABOBO</td>\n",
              "      <td>In Service</td>\n",
              "      <td>ABIDJAN</td>\n",
              "      <td>Abidjan_NORD</td>\n",
              "      <td>ZONE E - Abidjan_NORD</td>\n",
              "      <td>-4.014139</td>\n",
              "      <td>5.4335</td>\n",
              "      <td>LAGUNE</td>\n",
              "      <td>ABIDJAN NORTH</td>\n",
              "      <td>bc51c17a6f</td>\n",
              "      <td>0f34c36ac5</td>\n",
              "    </tr>\n",
              "    <tr>\n",
              "      <th>27</th>\n",
              "      <td>ABOBO</td>\n",
              "      <td>In Service</td>\n",
              "      <td>ABIDJAN</td>\n",
              "      <td>Abidjan_NORD</td>\n",
              "      <td>ZONE E - Abidjan_NORD</td>\n",
              "      <td>-4.014139</td>\n",
              "      <td>5.4335</td>\n",
              "      <td>LAGUNE</td>\n",
              "      <td>ABIDJAN NORTH</td>\n",
              "      <td>e460975c9f</td>\n",
              "      <td>0f34c36ac5</td>\n",
              "    </tr>\n",
              "  </tbody>\n",
              "</table>\n",
              "</div>"
            ],
            "text/plain": [
              "     City      Status Localisation  ...           Area     Cell_ID   Site_Code\n",
              "23  ABOBO  In Service      ABIDJAN  ...  ABIDJAN NORTH  f740406877  0f34c36ac5\n",
              "24  ABOBO  In Service      ABIDJAN  ...  ABIDJAN NORTH  959e54c8f7  0f34c36ac5\n",
              "25  ABOBO  In Service      ABIDJAN  ...  ABIDJAN NORTH  56b7e7000c  0f34c36ac5\n",
              "26  ABOBO  In Service      ABIDJAN  ...  ABIDJAN NORTH  bc51c17a6f  0f34c36ac5\n",
              "27  ABOBO  In Service      ABIDJAN  ...  ABIDJAN NORTH  e460975c9f  0f34c36ac5\n",
              "\n",
              "[5 rows x 11 columns]"
            ]
          },
          "metadata": {},
          "execution_count": 50
        }
      ]
    },
    {
      "cell_type": "code",
      "metadata": {
        "colab": {
          "base_uri": "https://localhost:8080/"
        },
        "id": "hakYqf7UbqLq",
        "outputId": "490859da-2d0d-4410-daa8-36a110392d79"
      },
      "source": [
        "#To Check which Columns have Null values\n",
        "print(df.isnull().sum())    #Status and Area have Null values"
      ],
      "execution_count": 143,
      "outputs": [
        {
          "output_type": "stream",
          "name": "stdout",
          "text": [
            "City                 0\n",
            "Status              67\n",
            "Localisation         0\n",
            "GeographicalZone     0\n",
            "ZoneName             6\n",
            "Longitude            0\n",
            "Latitude             0\n",
            "Region               0\n",
            "Area                23\n",
            "Cell_ID              0\n",
            "Site_Code            0\n",
            "dtype: int64\n"
          ]
        }
      ]
    },
    {
      "cell_type": "code",
      "metadata": {
        "colab": {
          "base_uri": "https://localhost:8080/"
        },
        "id": "8cJqQR_wcNze",
        "outputId": "317ba06c-9fc2-4d6d-a261-0d9558b0cb89"
      },
      "source": [
        "#To check null values in the Status column:\n",
        "list(df.Status.unique())    #Has In Service and Null values\n",
        "\n",
        "#To check in the Area Column:\n",
        "list(df.Area.unique())    "
      ],
      "execution_count": 147,
      "outputs": [
        {
          "output_type": "execute_result",
          "data": {
            "text/plain": [
              "[nan,\n",
              " 'ABIDJAN NORTH',\n",
              " 'NORTH WEST',\n",
              " 'EAST',\n",
              " 'ABIDJAN SOUTH',\n",
              " 'SOUTH WEST',\n",
              " 'CENTRE NORTH']"
            ]
          },
          "metadata": {},
          "execution_count": 147
        }
      ]
    },
    {
      "cell_type": "markdown",
      "metadata": {
        "id": "Y82sy2sXdhpC"
      },
      "source": [
        "Analysis"
      ]
    },
    {
      "cell_type": "code",
      "metadata": {
        "colab": {
          "base_uri": "https://localhost:8080/",
          "height": 598
        },
        "id": "UYwTApqddgjM",
        "outputId": "67c43a17-4e83-40f9-e9ea-3d4f69b83e88"
      },
      "source": [
        "#Summary Statistics for our Table:\n",
        "df.info()\n",
        "df.describe()"
      ],
      "execution_count": 54,
      "outputs": [
        {
          "output_type": "stream",
          "name": "stdout",
          "text": [
            "<class 'pandas.core.frame.DataFrame'>\n",
            "Int64Index: 3974 entries, 0 to 3973\n",
            "Data columns (total 11 columns):\n",
            " #   Column            Non-Null Count  Dtype  \n",
            "---  ------            --------------  -----  \n",
            " 0   City              3974 non-null   object \n",
            " 1   Status            3907 non-null   object \n",
            " 2   Localisation      3974 non-null   object \n",
            " 3   GeographicalZone  3974 non-null   object \n",
            " 4   ZoneName          3968 non-null   object \n",
            " 5   Longitude         3974 non-null   float64\n",
            " 6   Latitude          3974 non-null   float64\n",
            " 7   Region            3974 non-null   object \n",
            " 8   Area              3951 non-null   object \n",
            " 9   Cell_ID           3974 non-null   object \n",
            " 10  Site_Code         3974 non-null   object \n",
            "dtypes: float64(2), object(9)\n",
            "memory usage: 372.6+ KB\n"
          ]
        },
        {
          "output_type": "execute_result",
          "data": {
            "text/html": [
              "<div>\n",
              "<style scoped>\n",
              "    .dataframe tbody tr th:only-of-type {\n",
              "        vertical-align: middle;\n",
              "    }\n",
              "\n",
              "    .dataframe tbody tr th {\n",
              "        vertical-align: top;\n",
              "    }\n",
              "\n",
              "    .dataframe thead th {\n",
              "        text-align: right;\n",
              "    }\n",
              "</style>\n",
              "<table border=\"1\" class=\"dataframe\">\n",
              "  <thead>\n",
              "    <tr style=\"text-align: right;\">\n",
              "      <th></th>\n",
              "      <th>Longitude</th>\n",
              "      <th>Latitude</th>\n",
              "    </tr>\n",
              "  </thead>\n",
              "  <tbody>\n",
              "    <tr>\n",
              "      <th>count</th>\n",
              "      <td>3974.000000</td>\n",
              "      <td>3974.000000</td>\n",
              "    </tr>\n",
              "    <tr>\n",
              "      <th>mean</th>\n",
              "      <td>-4.877659</td>\n",
              "      <td>6.244749</td>\n",
              "    </tr>\n",
              "    <tr>\n",
              "      <th>std</th>\n",
              "      <td>1.300771</td>\n",
              "      <td>1.304199</td>\n",
              "    </tr>\n",
              "    <tr>\n",
              "      <th>min</th>\n",
              "      <td>-8.503889</td>\n",
              "      <td>0.000000</td>\n",
              "    </tr>\n",
              "    <tr>\n",
              "      <th>25%</th>\n",
              "      <td>-5.846139</td>\n",
              "      <td>5.338639</td>\n",
              "    </tr>\n",
              "    <tr>\n",
              "      <th>50%</th>\n",
              "      <td>-4.084500</td>\n",
              "      <td>5.475000</td>\n",
              "    </tr>\n",
              "    <tr>\n",
              "      <th>75%</th>\n",
              "      <td>-3.993444</td>\n",
              "      <td>6.872306</td>\n",
              "    </tr>\n",
              "    <tr>\n",
              "      <th>max</th>\n",
              "      <td>0.000000</td>\n",
              "      <td>10.481861</td>\n",
              "    </tr>\n",
              "  </tbody>\n",
              "</table>\n",
              "</div>"
            ],
            "text/plain": [
              "         Longitude     Latitude\n",
              "count  3974.000000  3974.000000\n",
              "mean     -4.877659     6.244749\n",
              "std       1.300771     1.304199\n",
              "min      -8.503889     0.000000\n",
              "25%      -5.846139     5.338639\n",
              "50%      -4.084500     5.475000\n",
              "75%      -3.993444     6.872306\n",
              "max       0.000000    10.481861"
            ]
          },
          "metadata": {},
          "execution_count": 54
        }
      ]
    },
    {
      "cell_type": "code",
      "metadata": {
        "colab": {
          "base_uri": "https://localhost:8080/",
          "height": 142
        },
        "id": "xz5gWh_YfDKt",
        "outputId": "5b26a855-7814-47a9-b02e-416704475755"
      },
      "source": [
        "#To Create a table of Localisation:\n",
        "pd.pivot_table(df, index=['Localisation'] , aggfunc='count')\n"
      ],
      "execution_count": 60,
      "outputs": [
        {
          "output_type": "execute_result",
          "data": {
            "text/html": [
              "<div>\n",
              "<style scoped>\n",
              "    .dataframe tbody tr th:only-of-type {\n",
              "        vertical-align: middle;\n",
              "    }\n",
              "\n",
              "    .dataframe tbody tr th {\n",
              "        vertical-align: top;\n",
              "    }\n",
              "\n",
              "    .dataframe thead th {\n",
              "        text-align: right;\n",
              "    }\n",
              "</style>\n",
              "<table border=\"1\" class=\"dataframe\">\n",
              "  <thead>\n",
              "    <tr style=\"text-align: right;\">\n",
              "      <th></th>\n",
              "      <th>Area</th>\n",
              "      <th>Cell_ID</th>\n",
              "      <th>City</th>\n",
              "      <th>GeographicalZone</th>\n",
              "      <th>Latitude</th>\n",
              "      <th>Longitude</th>\n",
              "      <th>Region</th>\n",
              "      <th>Site_Code</th>\n",
              "      <th>Status</th>\n",
              "      <th>ZoneName</th>\n",
              "    </tr>\n",
              "    <tr>\n",
              "      <th>Localisation</th>\n",
              "      <th></th>\n",
              "      <th></th>\n",
              "      <th></th>\n",
              "      <th></th>\n",
              "      <th></th>\n",
              "      <th></th>\n",
              "      <th></th>\n",
              "      <th></th>\n",
              "      <th></th>\n",
              "      <th></th>\n",
              "    </tr>\n",
              "  </thead>\n",
              "  <tbody>\n",
              "    <tr>\n",
              "      <th>ABIDJAN</th>\n",
              "      <td>1650</td>\n",
              "      <td>1669</td>\n",
              "      <td>1669</td>\n",
              "      <td>1669</td>\n",
              "      <td>1669</td>\n",
              "      <td>1669</td>\n",
              "      <td>1669</td>\n",
              "      <td>1669</td>\n",
              "      <td>1636</td>\n",
              "      <td>1669</td>\n",
              "    </tr>\n",
              "    <tr>\n",
              "      <th>INTERIEUR</th>\n",
              "      <td>2301</td>\n",
              "      <td>2305</td>\n",
              "      <td>2305</td>\n",
              "      <td>2305</td>\n",
              "      <td>2305</td>\n",
              "      <td>2305</td>\n",
              "      <td>2305</td>\n",
              "      <td>2305</td>\n",
              "      <td>2271</td>\n",
              "      <td>2299</td>\n",
              "    </tr>\n",
              "  </tbody>\n",
              "</table>\n",
              "</div>"
            ],
            "text/plain": [
              "              Area  Cell_ID  City  ...  Site_Code  Status  ZoneName\n",
              "Localisation                       ...                             \n",
              "ABIDJAN       1650     1669  1669  ...       1669    1636      1669\n",
              "INTERIEUR     2301     2305  2305  ...       2305    2271      2299\n",
              "\n",
              "[2 rows x 10 columns]"
            ]
          },
          "metadata": {},
          "execution_count": 60
        }
      ]
    },
    {
      "cell_type": "markdown",
      "metadata": {
        "id": "lRHA_HKGf7Iy"
      },
      "source": [
        "# CDR"
      ]
    },
    {
      "cell_type": "markdown",
      "metadata": {
        "id": "gp_gsnrKf-iF"
      },
      "source": [
        "Loading our Dataset"
      ]
    },
    {
      "cell_type": "code",
      "metadata": {
        "colab": {
          "base_uri": "https://localhost:8080/",
          "height": 172
        },
        "id": "4u2rAauBpmxp",
        "outputId": "640c80d4-e305-4393-b412-1fb9bf3bca3e"
      },
      "source": [
        "#Loading our CDR 20120507 File:\n",
        "\n",
        "url = '/content/CDR 20120507.csv'\n",
        "df7 = pd.read_csv('CDR 20120507.csv', header=0, names = ['Product', 'Value', 'Date_Time', 'Cell_On_Site', 'DW_A_Number_int', 'DW_B_Number_int', 'Country_A', 'Country_B', 'Cell_ID', 'Site ID']) \n",
        "df7.head(5)\n",
        "\n",
        "#Based on the CDR Description file, \n",
        "#Column Cell_On_Site, Country_A and Country_B are not needed, \n",
        "#Dropping the 3 columns:\n",
        "\n",
        "df7.drop(['Cell_On_Site', 'Country_A', 'Country_B'], axis=1, inplace=True)\n",
        "df7.head()\n",
        "\n",
        "#Finding Unique Values in our data:\n",
        "df7.Product.unique()\n",
        "\n",
        "#Identifying any Duplicates:\n",
        "df7.duplicated()\n",
        "\n",
        "#Grouping our Products as per the Unique Values:\n",
        "f= df7.groupby('Product')\n",
        "f\n",
        "#To access each of this groups:\n",
        "#for Product, Product_df in f:\n",
        "#  print(Product)\n",
        "#  print(Product_df)\n",
        "\n",
        "#To access a specific Product:\n",
        "#f.get_group('Voice')\n",
        "\n",
        "#To find the Sum of the Products:\n",
        "f.sum()\n"
      ],
      "execution_count": 103,
      "outputs": [
        {
          "output_type": "execute_result",
          "data": {
            "text/html": [
              "<div>\n",
              "<style scoped>\n",
              "    .dataframe tbody tr th:only-of-type {\n",
              "        vertical-align: middle;\n",
              "    }\n",
              "\n",
              "    .dataframe tbody tr th {\n",
              "        vertical-align: top;\n",
              "    }\n",
              "\n",
              "    .dataframe thead th {\n",
              "        text-align: right;\n",
              "    }\n",
              "</style>\n",
              "<table border=\"1\" class=\"dataframe\">\n",
              "  <thead>\n",
              "    <tr style=\"text-align: right;\">\n",
              "      <th></th>\n",
              "      <th>Value</th>\n",
              "    </tr>\n",
              "    <tr>\n",
              "      <th>Product</th>\n",
              "      <th></th>\n",
              "    </tr>\n",
              "  </thead>\n",
              "  <tbody>\n",
              "    <tr>\n",
              "      <th>Voice</th>\n",
              "      <td>108869</td>\n",
              "    </tr>\n",
              "    <tr>\n",
              "      <th>data</th>\n",
              "      <td>7032</td>\n",
              "    </tr>\n",
              "    <tr>\n",
              "      <th>sms</th>\n",
              "      <td>13473</td>\n",
              "    </tr>\n",
              "  </tbody>\n",
              "</table>\n",
              "</div>"
            ],
            "text/plain": [
              "          Value\n",
              "Product        \n",
              "Voice    108869\n",
              "data       7032\n",
              "sms       13473"
            ]
          },
          "metadata": {},
          "execution_count": 103
        }
      ]
    },
    {
      "cell_type": "code",
      "metadata": {
        "colab": {
          "base_uri": "https://localhost:8080/",
          "height": 203
        },
        "id": "1wvayDUXXpzs",
        "outputId": "805b35cd-d513-4a9c-ce98-9eb3c4946c7f"
      },
      "source": [
        "#Summary Statistics of 20120507:\n",
        "f.describe()"
      ],
      "execution_count": 64,
      "outputs": [
        {
          "output_type": "execute_result",
          "data": {
            "text/html": [
              "<div>\n",
              "<style scoped>\n",
              "    .dataframe tbody tr th:only-of-type {\n",
              "        vertical-align: middle;\n",
              "    }\n",
              "\n",
              "    .dataframe tbody tr th {\n",
              "        vertical-align: top;\n",
              "    }\n",
              "\n",
              "    .dataframe thead tr th {\n",
              "        text-align: left;\n",
              "    }\n",
              "\n",
              "    .dataframe thead tr:last-of-type th {\n",
              "        text-align: right;\n",
              "    }\n",
              "</style>\n",
              "<table border=\"1\" class=\"dataframe\">\n",
              "  <thead>\n",
              "    <tr>\n",
              "      <th></th>\n",
              "      <th colspan=\"8\" halign=\"left\">Value</th>\n",
              "    </tr>\n",
              "    <tr>\n",
              "      <th></th>\n",
              "      <th>count</th>\n",
              "      <th>mean</th>\n",
              "      <th>std</th>\n",
              "      <th>min</th>\n",
              "      <th>25%</th>\n",
              "      <th>50%</th>\n",
              "      <th>75%</th>\n",
              "      <th>max</th>\n",
              "    </tr>\n",
              "    <tr>\n",
              "      <th>Product</th>\n",
              "      <th></th>\n",
              "      <th></th>\n",
              "      <th></th>\n",
              "      <th></th>\n",
              "      <th></th>\n",
              "      <th></th>\n",
              "      <th></th>\n",
              "      <th></th>\n",
              "    </tr>\n",
              "  </thead>\n",
              "  <tbody>\n",
              "    <tr>\n",
              "      <th>Voice</th>\n",
              "      <td>2219.0</td>\n",
              "      <td>49.062190</td>\n",
              "      <td>114.668144</td>\n",
              "      <td>0.0</td>\n",
              "      <td>1.0</td>\n",
              "      <td>20.0</td>\n",
              "      <td>53.0</td>\n",
              "      <td>1860.0</td>\n",
              "    </tr>\n",
              "    <tr>\n",
              "      <th>data</th>\n",
              "      <td>807.0</td>\n",
              "      <td>8.713755</td>\n",
              "      <td>158.285506</td>\n",
              "      <td>0.0</td>\n",
              "      <td>0.0</td>\n",
              "      <td>0.0</td>\n",
              "      <td>0.0</td>\n",
              "      <td>4440.0</td>\n",
              "    </tr>\n",
              "    <tr>\n",
              "      <th>sms</th>\n",
              "      <td>1975.0</td>\n",
              "      <td>6.821772</td>\n",
              "      <td>15.060924</td>\n",
              "      <td>0.0</td>\n",
              "      <td>0.0</td>\n",
              "      <td>0.0</td>\n",
              "      <td>0.0</td>\n",
              "      <td>100.0</td>\n",
              "    </tr>\n",
              "  </tbody>\n",
              "</table>\n",
              "</div>"
            ],
            "text/plain": [
              "          Value                                                     \n",
              "          count       mean         std  min  25%   50%   75%     max\n",
              "Product                                                             \n",
              "Voice    2219.0  49.062190  114.668144  0.0  1.0  20.0  53.0  1860.0\n",
              "data      807.0   8.713755  158.285506  0.0  0.0   0.0   0.0  4440.0\n",
              "sms      1975.0   6.821772   15.060924  0.0  0.0   0.0   0.0   100.0"
            ]
          },
          "metadata": {},
          "execution_count": 64
        }
      ]
    },
    {
      "cell_type": "code",
      "metadata": {
        "colab": {
          "base_uri": "https://localhost:8080/",
          "height": 172
        },
        "id": "_1QX_rL3smIQ",
        "outputId": "1f9069c0-504b-4d88-e04f-438a470a1382"
      },
      "source": [
        "#Loading our CDR 20120508 File\n",
        "#And Based on the CDR Description,\n",
        "\n",
        "url = '/content/CDR 20120508.csv'\n",
        "df8 = pd.read_csv('CDR 20120508.csv', header=0, names = ['Product', 'Value', 'Date_Time', 'Cell_On_Site', 'DW_A_Number_int', 'DW_B_Number_int', 'Country_A', 'Country_B', 'Cell_ID', 'Site ID']) \n",
        "df8.head(5)\n",
        "\n",
        "#Based on the CDR Description file, \n",
        "#Dropping: Column Cell_On_Site, Country_A and Country_B,\n",
        "\n",
        "df8.drop(['Cell_On_Site', 'Country_A', 'Country_B'], axis=1, inplace=True)\n",
        "df8.head()\n",
        "\n",
        "#Finding Unique Values in our data:\n",
        "df8.Product.unique()\n",
        "\n",
        "#Identifying any Duplicates:\n",
        "df8.duplicated()\n",
        "\n",
        "#Grouping our Products as per the Unique Values:\n",
        "f= df8.groupby('Product')\n",
        "f\n",
        "#To access each of this groups:\n",
        "#for Product, Product_df in f:\n",
        "#  print(Product)\n",
        "#  print(Product_df)\n",
        "\n",
        "#To access a specific Product:\n",
        "f.get_group('sms')\n",
        "\n",
        "#To find the Sum of the Products:\n",
        "f.sum()"
      ],
      "execution_count": 104,
      "outputs": [
        {
          "output_type": "execute_result",
          "data": {
            "text/html": [
              "<div>\n",
              "<style scoped>\n",
              "    .dataframe tbody tr th:only-of-type {\n",
              "        vertical-align: middle;\n",
              "    }\n",
              "\n",
              "    .dataframe tbody tr th {\n",
              "        vertical-align: top;\n",
              "    }\n",
              "\n",
              "    .dataframe thead th {\n",
              "        text-align: right;\n",
              "    }\n",
              "</style>\n",
              "<table border=\"1\" class=\"dataframe\">\n",
              "  <thead>\n",
              "    <tr style=\"text-align: right;\">\n",
              "      <th></th>\n",
              "      <th>Value</th>\n",
              "    </tr>\n",
              "    <tr>\n",
              "      <th>Product</th>\n",
              "      <th></th>\n",
              "    </tr>\n",
              "  </thead>\n",
              "  <tbody>\n",
              "    <tr>\n",
              "      <th>Voice</th>\n",
              "      <td>103486</td>\n",
              "    </tr>\n",
              "    <tr>\n",
              "      <th>data</th>\n",
              "      <td>5500</td>\n",
              "    </tr>\n",
              "    <tr>\n",
              "      <th>sms</th>\n",
              "      <td>12713</td>\n",
              "    </tr>\n",
              "  </tbody>\n",
              "</table>\n",
              "</div>"
            ],
            "text/plain": [
              "          Value\n",
              "Product        \n",
              "Voice    103486\n",
              "data       5500\n",
              "sms       12713"
            ]
          },
          "metadata": {},
          "execution_count": 104
        }
      ]
    },
    {
      "cell_type": "code",
      "metadata": {
        "colab": {
          "base_uri": "https://localhost:8080/",
          "height": 203
        },
        "id": "4DZW9OFLgvMc",
        "outputId": "90d3903f-306a-41ae-bc7a-dffc9dbcb4a5"
      },
      "source": [
        "#Summary Statistics of 20120508:\n",
        "f.describe()"
      ],
      "execution_count": 66,
      "outputs": [
        {
          "output_type": "execute_result",
          "data": {
            "text/html": [
              "<div>\n",
              "<style scoped>\n",
              "    .dataframe tbody tr th:only-of-type {\n",
              "        vertical-align: middle;\n",
              "    }\n",
              "\n",
              "    .dataframe tbody tr th {\n",
              "        vertical-align: top;\n",
              "    }\n",
              "\n",
              "    .dataframe thead tr th {\n",
              "        text-align: left;\n",
              "    }\n",
              "\n",
              "    .dataframe thead tr:last-of-type th {\n",
              "        text-align: right;\n",
              "    }\n",
              "</style>\n",
              "<table border=\"1\" class=\"dataframe\">\n",
              "  <thead>\n",
              "    <tr>\n",
              "      <th></th>\n",
              "      <th colspan=\"8\" halign=\"left\">Value</th>\n",
              "    </tr>\n",
              "    <tr>\n",
              "      <th></th>\n",
              "      <th>count</th>\n",
              "      <th>mean</th>\n",
              "      <th>std</th>\n",
              "      <th>min</th>\n",
              "      <th>25%</th>\n",
              "      <th>50%</th>\n",
              "      <th>75%</th>\n",
              "      <th>max</th>\n",
              "    </tr>\n",
              "    <tr>\n",
              "      <th>Product</th>\n",
              "      <th></th>\n",
              "      <th></th>\n",
              "      <th></th>\n",
              "      <th></th>\n",
              "      <th></th>\n",
              "      <th></th>\n",
              "      <th></th>\n",
              "      <th></th>\n",
              "    </tr>\n",
              "  </thead>\n",
              "  <tbody>\n",
              "    <tr>\n",
              "      <th>Voice</th>\n",
              "      <td>1906.0</td>\n",
              "      <td>54.294858</td>\n",
              "      <td>147.777044</td>\n",
              "      <td>0.0</td>\n",
              "      <td>1.0</td>\n",
              "      <td>20.0</td>\n",
              "      <td>52.75</td>\n",
              "      <td>3380.0</td>\n",
              "    </tr>\n",
              "    <tr>\n",
              "      <th>data</th>\n",
              "      <td>766.0</td>\n",
              "      <td>7.180157</td>\n",
              "      <td>58.972256</td>\n",
              "      <td>0.0</td>\n",
              "      <td>0.0</td>\n",
              "      <td>0.0</td>\n",
              "      <td>0.00</td>\n",
              "      <td>1000.0</td>\n",
              "    </tr>\n",
              "    <tr>\n",
              "      <th>sms</th>\n",
              "      <td>2329.0</td>\n",
              "      <td>5.458566</td>\n",
              "      <td>14.291520</td>\n",
              "      <td>0.0</td>\n",
              "      <td>0.0</td>\n",
              "      <td>0.0</td>\n",
              "      <td>0.00</td>\n",
              "      <td>100.0</td>\n",
              "    </tr>\n",
              "  </tbody>\n",
              "</table>\n",
              "</div>"
            ],
            "text/plain": [
              "          Value                                                      \n",
              "          count       mean         std  min  25%   50%    75%     max\n",
              "Product                                                              \n",
              "Voice    1906.0  54.294858  147.777044  0.0  1.0  20.0  52.75  3380.0\n",
              "data      766.0   7.180157   58.972256  0.0  0.0   0.0   0.00  1000.0\n",
              "sms      2329.0   5.458566   14.291520  0.0  0.0   0.0   0.00   100.0"
            ]
          },
          "metadata": {},
          "execution_count": 66
        }
      ]
    },
    {
      "cell_type": "code",
      "metadata": {
        "colab": {
          "base_uri": "https://localhost:8080/",
          "height": 172
        },
        "id": "BfqQzsnHtdR0",
        "outputId": "bc2efcf9-0bff-4034-b459-abcd6d783320"
      },
      "source": [
        "#Loading our CDR 20120509 File:\n",
        "\n",
        "url = '/content/CDR 20120509.csv'\n",
        "df9 = pd.read_csv('CDR 20120509.csv', header=0, names = ['Product', 'Value', 'Date_Time', 'Cell_On_Site', 'DW_A_Number_int', 'DW_B_Number_int', 'Country_A', 'Country_B', 'Cell_ID', 'Site ID']) \n",
        "df9.head(5)\n",
        "\n",
        "#Based on the CDR Description file, \n",
        "#Dropping Column Cell_On_Site, Country_A and Country_B,\n",
        "\n",
        "df9.drop(['Cell_On_Site', 'Country_A', 'Country_B'], axis=1, inplace=True)\n",
        "df9.head()\n",
        "\n",
        "#Finding Unique Values in our data:\n",
        "df9.Product.unique()\n",
        "\n",
        "#Identifying any Duplicates:\n",
        "df9.duplicated()\n",
        "\n",
        "#Grouping our Products as per the Unique Values:\n",
        "f= df9.groupby('Product')\n",
        "f\n",
        "#To access each of this groups:\n",
        "#for Product, Product_df in f:\n",
        "# print(Product)\n",
        "# print(Product_df)\n",
        "\n",
        "#To access a specific Product:\n",
        "f.get_group('sms')\n",
        "\n",
        "#To find the Sum of the Products:\n",
        "f.sum()\n",
        "\n",
        "#This is the value of the different products on the 3rd day"
      ],
      "execution_count": 105,
      "outputs": [
        {
          "output_type": "execute_result",
          "data": {
            "text/html": [
              "<div>\n",
              "<style scoped>\n",
              "    .dataframe tbody tr th:only-of-type {\n",
              "        vertical-align: middle;\n",
              "    }\n",
              "\n",
              "    .dataframe tbody tr th {\n",
              "        vertical-align: top;\n",
              "    }\n",
              "\n",
              "    .dataframe thead th {\n",
              "        text-align: right;\n",
              "    }\n",
              "</style>\n",
              "<table border=\"1\" class=\"dataframe\">\n",
              "  <thead>\n",
              "    <tr style=\"text-align: right;\">\n",
              "      <th></th>\n",
              "      <th>Value</th>\n",
              "    </tr>\n",
              "    <tr>\n",
              "      <th>Product</th>\n",
              "      <th></th>\n",
              "    </tr>\n",
              "  </thead>\n",
              "  <tbody>\n",
              "    <tr>\n",
              "      <th>Voice</th>\n",
              "      <td>100238</td>\n",
              "    </tr>\n",
              "    <tr>\n",
              "      <th>data</th>\n",
              "      <td>4755</td>\n",
              "    </tr>\n",
              "    <tr>\n",
              "      <th>sms</th>\n",
              "      <td>27241</td>\n",
              "    </tr>\n",
              "  </tbody>\n",
              "</table>\n",
              "</div>"
            ],
            "text/plain": [
              "          Value\n",
              "Product        \n",
              "Voice    100238\n",
              "data       4755\n",
              "sms       27241"
            ]
          },
          "metadata": {},
          "execution_count": 105
        }
      ]
    },
    {
      "cell_type": "code",
      "metadata": {
        "colab": {
          "base_uri": "https://localhost:8080/",
          "height": 203
        },
        "id": "P9T8V2Y7g69c",
        "outputId": "eb4875a5-01c3-4f4c-cf4f-2caa43a1b68c"
      },
      "source": [
        "#Summary Statistics of 20120509:\n",
        "f.describe()"
      ],
      "execution_count": 70,
      "outputs": [
        {
          "output_type": "execute_result",
          "data": {
            "text/html": [
              "<div>\n",
              "<style scoped>\n",
              "    .dataframe tbody tr th:only-of-type {\n",
              "        vertical-align: middle;\n",
              "    }\n",
              "\n",
              "    .dataframe tbody tr th {\n",
              "        vertical-align: top;\n",
              "    }\n",
              "\n",
              "    .dataframe thead tr th {\n",
              "        text-align: left;\n",
              "    }\n",
              "\n",
              "    .dataframe thead tr:last-of-type th {\n",
              "        text-align: right;\n",
              "    }\n",
              "</style>\n",
              "<table border=\"1\" class=\"dataframe\">\n",
              "  <thead>\n",
              "    <tr>\n",
              "      <th></th>\n",
              "      <th colspan=\"8\" halign=\"left\">Value</th>\n",
              "    </tr>\n",
              "    <tr>\n",
              "      <th></th>\n",
              "      <th>count</th>\n",
              "      <th>mean</th>\n",
              "      <th>std</th>\n",
              "      <th>min</th>\n",
              "      <th>25%</th>\n",
              "      <th>50%</th>\n",
              "      <th>75%</th>\n",
              "      <th>max</th>\n",
              "    </tr>\n",
              "    <tr>\n",
              "      <th>Product</th>\n",
              "      <th></th>\n",
              "      <th></th>\n",
              "      <th></th>\n",
              "      <th></th>\n",
              "      <th></th>\n",
              "      <th></th>\n",
              "      <th></th>\n",
              "      <th></th>\n",
              "    </tr>\n",
              "  </thead>\n",
              "  <tbody>\n",
              "    <tr>\n",
              "      <th>Voice</th>\n",
              "      <td>1541.0</td>\n",
              "      <td>65.047372</td>\n",
              "      <td>399.156235</td>\n",
              "      <td>0.0</td>\n",
              "      <td>1.0</td>\n",
              "      <td>20.0</td>\n",
              "      <td>53.0</td>\n",
              "      <td>12900.0</td>\n",
              "    </tr>\n",
              "    <tr>\n",
              "      <th>data</th>\n",
              "      <td>693.0</td>\n",
              "      <td>6.861472</td>\n",
              "      <td>54.666470</td>\n",
              "      <td>0.0</td>\n",
              "      <td>0.0</td>\n",
              "      <td>0.0</td>\n",
              "      <td>0.0</td>\n",
              "      <td>832.0</td>\n",
              "    </tr>\n",
              "    <tr>\n",
              "      <th>sms</th>\n",
              "      <td>2767.0</td>\n",
              "      <td>9.844958</td>\n",
              "      <td>14.412532</td>\n",
              "      <td>0.0</td>\n",
              "      <td>0.0</td>\n",
              "      <td>0.0</td>\n",
              "      <td>25.0</td>\n",
              "      <td>100.0</td>\n",
              "    </tr>\n",
              "  </tbody>\n",
              "</table>\n",
              "</div>"
            ],
            "text/plain": [
              "          Value                                                      \n",
              "          count       mean         std  min  25%   50%   75%      max\n",
              "Product                                                              \n",
              "Voice    1541.0  65.047372  399.156235  0.0  1.0  20.0  53.0  12900.0\n",
              "data      693.0   6.861472   54.666470  0.0  0.0   0.0   0.0    832.0\n",
              "sms      2767.0   9.844958   14.412532  0.0  0.0   0.0  25.0    100.0"
            ]
          },
          "metadata": {},
          "execution_count": 70
        }
      ]
    },
    {
      "cell_type": "markdown",
      "metadata": {
        "id": "Yjgb4E1qiGxz"
      },
      "source": [
        "Exploring and Cleaning"
      ]
    },
    {
      "cell_type": "code",
      "metadata": {
        "colab": {
          "base_uri": "https://localhost:8080/"
        },
        "id": "LDsepaaTEJ0y",
        "outputId": "3ef18fce-a36a-4041-d393-b6bfe308e2dc"
      },
      "source": [
        "#Merging the Datasets for the 3 days:\n",
        "dfCombined = pd.concat([df7,df8,df9], axis=0)\n",
        "dfCombined.info()"
      ],
      "execution_count": 106,
      "outputs": [
        {
          "output_type": "stream",
          "name": "stdout",
          "text": [
            "<class 'pandas.core.frame.DataFrame'>\n",
            "Int64Index: 15003 entries, 0 to 5000\n",
            "Data columns (total 7 columns):\n",
            " #   Column           Non-Null Count  Dtype \n",
            "---  ------           --------------  ----- \n",
            " 0   Product          15003 non-null  object\n",
            " 1   Value            15003 non-null  int64 \n",
            " 2   Date_Time        15003 non-null  object\n",
            " 3   DW_A_Number_int  15003 non-null  object\n",
            " 4   DW_B_Number_int  15003 non-null  object\n",
            " 5   Cell_ID          15003 non-null  object\n",
            " 6   Site ID          13006 non-null  object\n",
            "dtypes: int64(1), object(6)\n",
            "memory usage: 937.7+ KB\n"
          ]
        }
      ]
    },
    {
      "cell_type": "code",
      "metadata": {
        "colab": {
          "base_uri": "https://localhost:8080/"
        },
        "id": "ObdUqQv7lotL",
        "outputId": "9e020c21-6865-41af-ac1b-25b551dfb6d4"
      },
      "source": [
        "#Changing the data type of the Date time Column:\n",
        "dfCombined['Date_Time'] = pd.to_datetime(dfCombined['Date_Time'])\n",
        "dfCombined.info()"
      ],
      "execution_count": 107,
      "outputs": [
        {
          "output_type": "stream",
          "name": "stdout",
          "text": [
            "<class 'pandas.core.frame.DataFrame'>\n",
            "Int64Index: 15003 entries, 0 to 5000\n",
            "Data columns (total 7 columns):\n",
            " #   Column           Non-Null Count  Dtype         \n",
            "---  ------           --------------  -----         \n",
            " 0   Product          15003 non-null  object        \n",
            " 1   Value            15003 non-null  int64         \n",
            " 2   Date_Time        15003 non-null  datetime64[ns]\n",
            " 3   DW_A_Number_int  15003 non-null  object        \n",
            " 4   DW_B_Number_int  15003 non-null  object        \n",
            " 5   Cell_ID          15003 non-null  object        \n",
            " 6   Site ID          13006 non-null  object        \n",
            "dtypes: datetime64[ns](1), int64(1), object(5)\n",
            "memory usage: 937.7+ KB\n"
          ]
        }
      ]
    },
    {
      "cell_type": "code",
      "metadata": {
        "colab": {
          "base_uri": "https://localhost:8080/",
          "height": 417
        },
        "id": "Y8NKC7-mqt8G",
        "outputId": "62732a08-e279-4695-de9f-edc7a1176650"
      },
      "source": [
        "#Running our Combined Table:\n",
        "dfCombined"
      ],
      "execution_count": 108,
      "outputs": [
        {
          "output_type": "execute_result",
          "data": {
            "text/html": [
              "<div>\n",
              "<style scoped>\n",
              "    .dataframe tbody tr th:only-of-type {\n",
              "        vertical-align: middle;\n",
              "    }\n",
              "\n",
              "    .dataframe tbody tr th {\n",
              "        vertical-align: top;\n",
              "    }\n",
              "\n",
              "    .dataframe thead th {\n",
              "        text-align: right;\n",
              "    }\n",
              "</style>\n",
              "<table border=\"1\" class=\"dataframe\">\n",
              "  <thead>\n",
              "    <tr style=\"text-align: right;\">\n",
              "      <th></th>\n",
              "      <th>Product</th>\n",
              "      <th>Value</th>\n",
              "      <th>Date_Time</th>\n",
              "      <th>DW_A_Number_int</th>\n",
              "      <th>DW_B_Number_int</th>\n",
              "      <th>Cell_ID</th>\n",
              "      <th>Site ID</th>\n",
              "    </tr>\n",
              "  </thead>\n",
              "  <tbody>\n",
              "    <tr>\n",
              "      <th>0</th>\n",
              "      <td>Voice</td>\n",
              "      <td>0</td>\n",
              "      <td>2012-05-06 23:04:37</td>\n",
              "      <td>49fae048b547780</td>\n",
              "      <td>1a49f8b0ded9de6</td>\n",
              "      <td>/TJNe+Mmtu</td>\n",
              "      <td>/TJNe+Mmtu</td>\n",
              "    </tr>\n",
              "    <tr>\n",
              "      <th>1</th>\n",
              "      <td>sms</td>\n",
              "      <td>0</td>\n",
              "      <td>2012-05-06 23:05:25</td>\n",
              "      <td>7a54a6eaee19e65</td>\n",
              "      <td>93343ba6e41af95</td>\n",
              "      <td>/+cKZKIp41</td>\n",
              "      <td>/+cKZKIp41</td>\n",
              "    </tr>\n",
              "    <tr>\n",
              "      <th>2</th>\n",
              "      <td>sms</td>\n",
              "      <td>25</td>\n",
              "      <td>2012-05-06 23:05:41</td>\n",
              "      <td>6008887b0207d82</td>\n",
              "      <td>7aacc9709ce0a20</td>\n",
              "      <td>/u0FSD+ahi</td>\n",
              "      <td>/u0FSD+ahi</td>\n",
              "    </tr>\n",
              "    <tr>\n",
              "      <th>3</th>\n",
              "      <td>Voice</td>\n",
              "      <td>56</td>\n",
              "      <td>2012-05-06 23:05:42</td>\n",
              "      <td>7370032e20f4e96</td>\n",
              "      <td>6af4a60e74c91d3</td>\n",
              "      <td>+cNeJzsTp3</td>\n",
              "      <td>+cNeJzsTp3</td>\n",
              "    </tr>\n",
              "    <tr>\n",
              "      <th>4</th>\n",
              "      <td>Voice</td>\n",
              "      <td>14</td>\n",
              "      <td>2012-05-06 23:06:29</td>\n",
              "      <td>966ba4656e38e62</td>\n",
              "      <td>02aa736ee555d5c</td>\n",
              "      <td>051KhYDCpv</td>\n",
              "      <td>051KhYDCpv</td>\n",
              "    </tr>\n",
              "    <tr>\n",
              "      <th>...</th>\n",
              "      <td>...</td>\n",
              "      <td>...</td>\n",
              "      <td>...</td>\n",
              "      <td>...</td>\n",
              "      <td>...</td>\n",
              "      <td>...</td>\n",
              "      <td>...</td>\n",
              "    </tr>\n",
              "    <tr>\n",
              "      <th>4996</th>\n",
              "      <td>Voice</td>\n",
              "      <td>0</td>\n",
              "      <td>2012-05-09 00:01:43</td>\n",
              "      <td>467333ade2b4b9c</td>\n",
              "      <td>0ab2acd804d01fe</td>\n",
              "      <td>2aa04dcab7</td>\n",
              "      <td>f7d63a29e5</td>\n",
              "    </tr>\n",
              "    <tr>\n",
              "      <th>4997</th>\n",
              "      <td>Voice</td>\n",
              "      <td>62</td>\n",
              "      <td>2012-05-09 00:01:43</td>\n",
              "      <td>e077a6b74c5053c</td>\n",
              "      <td>4c8098eb6ea1a41</td>\n",
              "      <td>7f1f2f889f</td>\n",
              "      <td>b4ddb9e93c</td>\n",
              "    </tr>\n",
              "    <tr>\n",
              "      <th>4998</th>\n",
              "      <td>Voice</td>\n",
              "      <td>32</td>\n",
              "      <td>2012-05-09 00:01:43</td>\n",
              "      <td>77f53c39d27c050</td>\n",
              "      <td>9d064f013e2cab2</td>\n",
              "      <td>a4731e780e</td>\n",
              "      <td>d68260ef50</td>\n",
              "    </tr>\n",
              "    <tr>\n",
              "      <th>4999</th>\n",
              "      <td>Voice</td>\n",
              "      <td>30</td>\n",
              "      <td>2012-05-09 00:01:43</td>\n",
              "      <td>672ce74c418aa7a</td>\n",
              "      <td>f9ff5af59cf0d68</td>\n",
              "      <td>98ed726da2</td>\n",
              "      <td>b4130b54ab</td>\n",
              "    </tr>\n",
              "    <tr>\n",
              "      <th>5000</th>\n",
              "      <td>Voice</td>\n",
              "      <td>60</td>\n",
              "      <td>2012-05-09 00:01:43</td>\n",
              "      <td>6edeb4c55714650</td>\n",
              "      <td>7e60838216482a7</td>\n",
              "      <td>1c11a2fcbb</td>\n",
              "      <td>6d70dae094</td>\n",
              "    </tr>\n",
              "  </tbody>\n",
              "</table>\n",
              "<p>15003 rows × 7 columns</p>\n",
              "</div>"
            ],
            "text/plain": [
              "     Product  Value  ...     Cell_ID     Site ID\n",
              "0      Voice      0  ...  /TJNe+Mmtu  /TJNe+Mmtu\n",
              "1        sms      0  ...  /+cKZKIp41  /+cKZKIp41\n",
              "2        sms     25  ...  /u0FSD+ahi  /u0FSD+ahi\n",
              "3      Voice     56  ...  +cNeJzsTp3  +cNeJzsTp3\n",
              "4      Voice     14  ...  051KhYDCpv  051KhYDCpv\n",
              "...      ...    ...  ...         ...         ...\n",
              "4996   Voice      0  ...  2aa04dcab7  f7d63a29e5\n",
              "4997   Voice     62  ...  7f1f2f889f  b4ddb9e93c\n",
              "4998   Voice     32  ...  a4731e780e  d68260ef50\n",
              "4999   Voice     30  ...  98ed726da2  b4130b54ab\n",
              "5000   Voice     60  ...  1c11a2fcbb  6d70dae094\n",
              "\n",
              "[15003 rows x 7 columns]"
            ]
          },
          "metadata": {},
          "execution_count": 108
        }
      ]
    },
    {
      "cell_type": "code",
      "metadata": {
        "colab": {
          "base_uri": "https://localhost:8080/",
          "height": 234
        },
        "id": "Z7eYWmj7m1T7",
        "outputId": "c8c6a27a-a7f4-4a18-e427-b530d844e953"
      },
      "source": [
        "dfCombined.groupby('Cell_ID').count().nlargest(5,'Product')"
      ],
      "execution_count": 110,
      "outputs": [
        {
          "output_type": "execute_result",
          "data": {
            "text/html": [
              "<div>\n",
              "<style scoped>\n",
              "    .dataframe tbody tr th:only-of-type {\n",
              "        vertical-align: middle;\n",
              "    }\n",
              "\n",
              "    .dataframe tbody tr th {\n",
              "        vertical-align: top;\n",
              "    }\n",
              "\n",
              "    .dataframe thead th {\n",
              "        text-align: right;\n",
              "    }\n",
              "</style>\n",
              "<table border=\"1\" class=\"dataframe\">\n",
              "  <thead>\n",
              "    <tr style=\"text-align: right;\">\n",
              "      <th></th>\n",
              "      <th>Product</th>\n",
              "      <th>Value</th>\n",
              "      <th>Date_Time</th>\n",
              "      <th>DW_A_Number_int</th>\n",
              "      <th>DW_B_Number_int</th>\n",
              "      <th>Site ID</th>\n",
              "    </tr>\n",
              "    <tr>\n",
              "      <th>Cell_ID</th>\n",
              "      <th></th>\n",
              "      <th></th>\n",
              "      <th></th>\n",
              "      <th></th>\n",
              "      <th></th>\n",
              "      <th></th>\n",
              "    </tr>\n",
              "  </thead>\n",
              "  <tbody>\n",
              "    <tr>\n",
              "      <th>ffa6759bb2</th>\n",
              "      <td>1996</td>\n",
              "      <td>1996</td>\n",
              "      <td>1996</td>\n",
              "      <td>1996</td>\n",
              "      <td>1996</td>\n",
              "      <td>0</td>\n",
              "    </tr>\n",
              "    <tr>\n",
              "      <th>03ee801971</th>\n",
              "      <td>75</td>\n",
              "      <td>75</td>\n",
              "      <td>75</td>\n",
              "      <td>75</td>\n",
              "      <td>75</td>\n",
              "      <td>75</td>\n",
              "    </tr>\n",
              "    <tr>\n",
              "      <th>cc7ce19d6b</th>\n",
              "      <td>65</td>\n",
              "      <td>65</td>\n",
              "      <td>65</td>\n",
              "      <td>65</td>\n",
              "      <td>65</td>\n",
              "      <td>65</td>\n",
              "    </tr>\n",
              "    <tr>\n",
              "      <th>d22224b2fa</th>\n",
              "      <td>43</td>\n",
              "      <td>43</td>\n",
              "      <td>43</td>\n",
              "      <td>43</td>\n",
              "      <td>43</td>\n",
              "      <td>43</td>\n",
              "    </tr>\n",
              "    <tr>\n",
              "      <th>b78724d6fc</th>\n",
              "      <td>42</td>\n",
              "      <td>42</td>\n",
              "      <td>42</td>\n",
              "      <td>42</td>\n",
              "      <td>42</td>\n",
              "      <td>42</td>\n",
              "    </tr>\n",
              "  </tbody>\n",
              "</table>\n",
              "</div>"
            ],
            "text/plain": [
              "            Product  Value  ...  DW_B_Number_int  Site ID\n",
              "Cell_ID                     ...                          \n",
              "ffa6759bb2     1996   1996  ...             1996        0\n",
              "03ee801971       75     75  ...               75       75\n",
              "cc7ce19d6b       65     65  ...               65       65\n",
              "d22224b2fa       43     43  ...               43       43\n",
              "b78724d6fc       42     42  ...               42       42\n",
              "\n",
              "[5 rows x 6 columns]"
            ]
          },
          "metadata": {},
          "execution_count": 110
        }
      ]
    },
    {
      "cell_type": "markdown",
      "metadata": {
        "id": "29n8tC_Iit0B"
      },
      "source": [
        "Analysis"
      ]
    },
    {
      "cell_type": "code",
      "metadata": {
        "colab": {
          "base_uri": "https://localhost:8080/",
          "height": 172
        },
        "id": "DRR3U_Wvh9A_",
        "outputId": "ba5eb966-7833-48d2-ae6c-ab37c1970940"
      },
      "source": [
        "#To find the total sum for all the days:\n",
        "f= dfCombined.groupby('Product')\n",
        "f\n",
        "#To access each of this groups:\n",
        "#for Product, Product_df in f:\n",
        "#  print(Product)\n",
        "#  print(Product_df)\n",
        "\n",
        "#To find the Sum of the Products:\n",
        "f.sum()\n",
        "\n",
        "#Most used product for the 3 days was Voice"
      ],
      "execution_count": 79,
      "outputs": [
        {
          "output_type": "execute_result",
          "data": {
            "text/html": [
              "<div>\n",
              "<style scoped>\n",
              "    .dataframe tbody tr th:only-of-type {\n",
              "        vertical-align: middle;\n",
              "    }\n",
              "\n",
              "    .dataframe tbody tr th {\n",
              "        vertical-align: top;\n",
              "    }\n",
              "\n",
              "    .dataframe thead th {\n",
              "        text-align: right;\n",
              "    }\n",
              "</style>\n",
              "<table border=\"1\" class=\"dataframe\">\n",
              "  <thead>\n",
              "    <tr style=\"text-align: right;\">\n",
              "      <th></th>\n",
              "      <th>Value</th>\n",
              "    </tr>\n",
              "    <tr>\n",
              "      <th>Product</th>\n",
              "      <th></th>\n",
              "    </tr>\n",
              "  </thead>\n",
              "  <tbody>\n",
              "    <tr>\n",
              "      <th>Voice</th>\n",
              "      <td>312593</td>\n",
              "    </tr>\n",
              "    <tr>\n",
              "      <th>data</th>\n",
              "      <td>17287</td>\n",
              "    </tr>\n",
              "    <tr>\n",
              "      <th>sms</th>\n",
              "      <td>53427</td>\n",
              "    </tr>\n",
              "  </tbody>\n",
              "</table>\n",
              "</div>"
            ],
            "text/plain": [
              "          Value\n",
              "Product        \n",
              "Voice    312593\n",
              "data      17287\n",
              "sms       53427"
            ]
          },
          "metadata": {},
          "execution_count": 79
        }
      ]
    },
    {
      "cell_type": "code",
      "metadata": {
        "colab": {
          "base_uri": "https://localhost:8080/",
          "height": 203
        },
        "id": "IgoPRQoVjIsL",
        "outputId": "36544703-a2de-442f-b219-8e061dd55b87"
      },
      "source": [
        "f.describe()"
      ],
      "execution_count": 80,
      "outputs": [
        {
          "output_type": "execute_result",
          "data": {
            "text/html": [
              "<div>\n",
              "<style scoped>\n",
              "    .dataframe tbody tr th:only-of-type {\n",
              "        vertical-align: middle;\n",
              "    }\n",
              "\n",
              "    .dataframe tbody tr th {\n",
              "        vertical-align: top;\n",
              "    }\n",
              "\n",
              "    .dataframe thead tr th {\n",
              "        text-align: left;\n",
              "    }\n",
              "\n",
              "    .dataframe thead tr:last-of-type th {\n",
              "        text-align: right;\n",
              "    }\n",
              "</style>\n",
              "<table border=\"1\" class=\"dataframe\">\n",
              "  <thead>\n",
              "    <tr>\n",
              "      <th></th>\n",
              "      <th colspan=\"8\" halign=\"left\">Value</th>\n",
              "    </tr>\n",
              "    <tr>\n",
              "      <th></th>\n",
              "      <th>count</th>\n",
              "      <th>mean</th>\n",
              "      <th>std</th>\n",
              "      <th>min</th>\n",
              "      <th>25%</th>\n",
              "      <th>50%</th>\n",
              "      <th>75%</th>\n",
              "      <th>max</th>\n",
              "    </tr>\n",
              "    <tr>\n",
              "      <th>Product</th>\n",
              "      <th></th>\n",
              "      <th></th>\n",
              "      <th></th>\n",
              "      <th></th>\n",
              "      <th></th>\n",
              "      <th></th>\n",
              "      <th></th>\n",
              "      <th></th>\n",
              "    </tr>\n",
              "  </thead>\n",
              "  <tbody>\n",
              "    <tr>\n",
              "      <th>Voice</th>\n",
              "      <td>5666.0</td>\n",
              "      <td>55.169961</td>\n",
              "      <td>236.315367</td>\n",
              "      <td>0.0</td>\n",
              "      <td>1.0</td>\n",
              "      <td>20.0</td>\n",
              "      <td>53.0</td>\n",
              "      <td>12900.0</td>\n",
              "    </tr>\n",
              "    <tr>\n",
              "      <th>data</th>\n",
              "      <td>2266.0</td>\n",
              "      <td>7.628861</td>\n",
              "      <td>104.899256</td>\n",
              "      <td>0.0</td>\n",
              "      <td>0.0</td>\n",
              "      <td>0.0</td>\n",
              "      <td>0.0</td>\n",
              "      <td>4440.0</td>\n",
              "    </tr>\n",
              "    <tr>\n",
              "      <th>sms</th>\n",
              "      <td>7071.0</td>\n",
              "      <td>7.555791</td>\n",
              "      <td>14.680076</td>\n",
              "      <td>0.0</td>\n",
              "      <td>0.0</td>\n",
              "      <td>0.0</td>\n",
              "      <td>25.0</td>\n",
              "      <td>100.0</td>\n",
              "    </tr>\n",
              "  </tbody>\n",
              "</table>\n",
              "</div>"
            ],
            "text/plain": [
              "          Value                                                      \n",
              "          count       mean         std  min  25%   50%   75%      max\n",
              "Product                                                              \n",
              "Voice    5666.0  55.169961  236.315367  0.0  1.0  20.0  53.0  12900.0\n",
              "data     2266.0   7.628861  104.899256  0.0  0.0   0.0   0.0   4440.0\n",
              "sms      7071.0   7.555791   14.680076  0.0  0.0   0.0  25.0    100.0"
            ]
          },
          "metadata": {},
          "execution_count": 80
        }
      ]
    },
    {
      "cell_type": "code",
      "metadata": {
        "colab": {
          "base_uri": "https://localhost:8080/",
          "height": 447
        },
        "id": "zm2YzGiUvAmP",
        "outputId": "dbec314d-cef8-48ec-feb8-155827c28a71"
      },
      "source": [
        "# Create a table of the products by date time \n",
        "pd.pivot_table(dfCombined, index=['Product','Date_Time'], aggfunc='sum')"
      ],
      "execution_count": 150,
      "outputs": [
        {
          "output_type": "execute_result",
          "data": {
            "text/html": [
              "<div>\n",
              "<style scoped>\n",
              "    .dataframe tbody tr th:only-of-type {\n",
              "        vertical-align: middle;\n",
              "    }\n",
              "\n",
              "    .dataframe tbody tr th {\n",
              "        vertical-align: top;\n",
              "    }\n",
              "\n",
              "    .dataframe thead th {\n",
              "        text-align: right;\n",
              "    }\n",
              "</style>\n",
              "<table border=\"1\" class=\"dataframe\">\n",
              "  <thead>\n",
              "    <tr style=\"text-align: right;\">\n",
              "      <th></th>\n",
              "      <th></th>\n",
              "      <th>Value</th>\n",
              "    </tr>\n",
              "    <tr>\n",
              "      <th>Product</th>\n",
              "      <th>Date_Time</th>\n",
              "      <th></th>\n",
              "    </tr>\n",
              "  </thead>\n",
              "  <tbody>\n",
              "    <tr>\n",
              "      <th rowspan=\"5\" valign=\"top\">Voice</th>\n",
              "      <th>2012-05-06 23:04:37</th>\n",
              "      <td>0</td>\n",
              "    </tr>\n",
              "    <tr>\n",
              "      <th>2012-05-06 23:05:42</th>\n",
              "      <td>56</td>\n",
              "    </tr>\n",
              "    <tr>\n",
              "      <th>2012-05-06 23:06:29</th>\n",
              "      <td>14</td>\n",
              "    </tr>\n",
              "    <tr>\n",
              "      <th>2012-05-06 23:08:02</th>\n",
              "      <td>0</td>\n",
              "    </tr>\n",
              "    <tr>\n",
              "      <th>2012-05-06 23:08:03</th>\n",
              "      <td>0</td>\n",
              "    </tr>\n",
              "    <tr>\n",
              "      <th>...</th>\n",
              "      <th>...</th>\n",
              "      <td>...</td>\n",
              "    </tr>\n",
              "    <tr>\n",
              "      <th rowspan=\"5\" valign=\"top\">sms</th>\n",
              "      <th>2012-05-09 00:01:39</th>\n",
              "      <td>200</td>\n",
              "    </tr>\n",
              "    <tr>\n",
              "      <th>2012-05-09 00:01:40</th>\n",
              "      <td>125</td>\n",
              "    </tr>\n",
              "    <tr>\n",
              "      <th>2012-05-09 00:01:41</th>\n",
              "      <td>170</td>\n",
              "    </tr>\n",
              "    <tr>\n",
              "      <th>2012-05-09 00:01:42</th>\n",
              "      <td>125</td>\n",
              "    </tr>\n",
              "    <tr>\n",
              "      <th>2012-05-09 00:01:43</th>\n",
              "      <td>125</td>\n",
              "    </tr>\n",
              "  </tbody>\n",
              "</table>\n",
              "<p>2933 rows × 1 columns</p>\n",
              "</div>"
            ],
            "text/plain": [
              "                             Value\n",
              "Product Date_Time                 \n",
              "Voice   2012-05-06 23:04:37      0\n",
              "        2012-05-06 23:05:42     56\n",
              "        2012-05-06 23:06:29     14\n",
              "        2012-05-06 23:08:02      0\n",
              "        2012-05-06 23:08:03      0\n",
              "...                            ...\n",
              "sms     2012-05-09 00:01:39    200\n",
              "        2012-05-09 00:01:40    125\n",
              "        2012-05-09 00:01:41    170\n",
              "        2012-05-09 00:01:42    125\n",
              "        2012-05-09 00:01:43    125\n",
              "\n",
              "[2933 rows x 1 columns]"
            ]
          },
          "metadata": {},
          "execution_count": 150
        }
      ]
    },
    {
      "cell_type": "code",
      "metadata": {
        "colab": {
          "base_uri": "https://localhost:8080/"
        },
        "id": "s-P5YJ0Be_cb",
        "outputId": "78657ea3-2680-447e-f566-f927700affa3"
      },
      "source": [
        "#To group the Site ID by their value:\n",
        "\n",
        "dfCombined.groupby('Site ID')['Value'].sum()"
      ],
      "execution_count": 161,
      "outputs": [
        {
          "output_type": "execute_result",
          "data": {
            "text/plain": [
              "Site ID\n",
              "++ctND+jGD    134\n",
              "+38u2u/rfx    247\n",
              "+854AcBQT2    154\n",
              "+Fs4mTvdKx     31\n",
              "+QZ9qRtNxA     55\n",
              "             ... \n",
              "feffc8c92b    297\n",
              "ff1b78ec81    322\n",
              "ffa6bdc032    499\n",
              "ffc9f56819    177\n",
              "fff5ac6e3f     28\n",
              "Name: Value, Length: 1357, dtype: int64"
            ]
          },
          "metadata": {},
          "execution_count": 161
        }
      ]
    },
    {
      "cell_type": "code",
      "metadata": {
        "colab": {
          "base_uri": "https://localhost:8080/",
          "height": 86
        },
        "id": "4QyttMrdOjgo",
        "outputId": "2abeae60-24d8-4adf-8802-39b2ed0f6c78"
      },
      "source": [
        "#Trying to merge our two tables from the Cells_geo and the df Combined\n",
        "#on the cell_ID column \n",
        "\n",
        "inner_merged = pd.merge(df,dfCombined)\n",
        "inner_merged\n",
        "\n",
        "#this does not yield showing that the two columns dont have similar details on the Cell_ID."
      ],
      "execution_count": 113,
      "outputs": [
        {
          "output_type": "execute_result",
          "data": {
            "text/html": [
              "<div>\n",
              "<style scoped>\n",
              "    .dataframe tbody tr th:only-of-type {\n",
              "        vertical-align: middle;\n",
              "    }\n",
              "\n",
              "    .dataframe tbody tr th {\n",
              "        vertical-align: top;\n",
              "    }\n",
              "\n",
              "    .dataframe thead th {\n",
              "        text-align: right;\n",
              "    }\n",
              "</style>\n",
              "<table border=\"1\" class=\"dataframe\">\n",
              "  <thead>\n",
              "    <tr style=\"text-align: right;\">\n",
              "      <th></th>\n",
              "      <th>City</th>\n",
              "      <th>Status</th>\n",
              "      <th>Localisation</th>\n",
              "      <th>GeographicalZone</th>\n",
              "      <th>ZoneName</th>\n",
              "      <th>Longitude</th>\n",
              "      <th>Latitude</th>\n",
              "      <th>Region</th>\n",
              "      <th>Area</th>\n",
              "      <th>Cell_ID</th>\n",
              "      <th>Site_Code</th>\n",
              "      <th>Product</th>\n",
              "      <th>Value</th>\n",
              "      <th>Date_Time</th>\n",
              "      <th>DW_A_Number_int</th>\n",
              "      <th>DW_B_Number_int</th>\n",
              "      <th>Site ID</th>\n",
              "    </tr>\n",
              "  </thead>\n",
              "  <tbody>\n",
              "  </tbody>\n",
              "</table>\n",
              "</div>"
            ],
            "text/plain": [
              "Empty DataFrame\n",
              "Columns: [City, Status, Localisation, GeographicalZone, ZoneName, Longitude, Latitude, Region, Area, Cell_ID, Site_Code, Product, Value, Date_Time, DW_A_Number_int, DW_B_Number_int, Site ID]\n",
              "Index: []"
            ]
          },
          "metadata": {},
          "execution_count": 113
        }
      ]
    }
  ]
}